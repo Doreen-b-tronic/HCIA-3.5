{
  "nbformat": 4,
  "nbformat_minor": 0,
  "metadata": {
    "colab": {
      "provenance": []
    },
    "kernelspec": {
      "name": "python3",
      "display_name": "Python 3"
    },
    "language_info": {
      "name": "python"
    }
  },
  "cells": [
    {
      "cell_type": "markdown",
      "source": [
        "In this task you should use Pandas to answer a few questions about the adult dataset. Read the\n",
        "data and answer the following questions:\n"
      ],
      "metadata": {
        "id": "0nXsTBU9tE9O"
      }
    },
    {
      "cell_type": "code",
      "source": [
        "from google.colab import files\n",
        "uploaded = files.upload()\n"
      ],
      "metadata": {
        "colab": {
          "base_uri": "https://localhost:8080/",
          "height": 73
        },
        "id": "t5c53nAWtSox",
        "outputId": "cc7af3e1-faf0-4b0e-c7b7-585f0cf1673f"
      },
      "execution_count": 13,
      "outputs": [
        {
          "output_type": "display_data",
          "data": {
            "text/plain": [
              "<IPython.core.display.HTML object>"
            ],
            "text/html": [
              "\n",
              "     <input type=\"file\" id=\"files-4130cfa1-d01e-4dbf-af95-68dde034fa65\" name=\"files[]\" multiple disabled\n",
              "        style=\"border:none\" />\n",
              "     <output id=\"result-4130cfa1-d01e-4dbf-af95-68dde034fa65\">\n",
              "      Upload widget is only available when the cell has been executed in the\n",
              "      current browser session. Please rerun this cell to enable.\n",
              "      </output>\n",
              "      <script>// Copyright 2017 Google LLC\n",
              "//\n",
              "// Licensed under the Apache License, Version 2.0 (the \"License\");\n",
              "// you may not use this file except in compliance with the License.\n",
              "// You may obtain a copy of the License at\n",
              "//\n",
              "//      http://www.apache.org/licenses/LICENSE-2.0\n",
              "//\n",
              "// Unless required by applicable law or agreed to in writing, software\n",
              "// distributed under the License is distributed on an \"AS IS\" BASIS,\n",
              "// WITHOUT WARRANTIES OR CONDITIONS OF ANY KIND, either express or implied.\n",
              "// See the License for the specific language governing permissions and\n",
              "// limitations under the License.\n",
              "\n",
              "/**\n",
              " * @fileoverview Helpers for google.colab Python module.\n",
              " */\n",
              "(function(scope) {\n",
              "function span(text, styleAttributes = {}) {\n",
              "  const element = document.createElement('span');\n",
              "  element.textContent = text;\n",
              "  for (const key of Object.keys(styleAttributes)) {\n",
              "    element.style[key] = styleAttributes[key];\n",
              "  }\n",
              "  return element;\n",
              "}\n",
              "\n",
              "// Max number of bytes which will be uploaded at a time.\n",
              "const MAX_PAYLOAD_SIZE = 100 * 1024;\n",
              "\n",
              "function _uploadFiles(inputId, outputId) {\n",
              "  const steps = uploadFilesStep(inputId, outputId);\n",
              "  const outputElement = document.getElementById(outputId);\n",
              "  // Cache steps on the outputElement to make it available for the next call\n",
              "  // to uploadFilesContinue from Python.\n",
              "  outputElement.steps = steps;\n",
              "\n",
              "  return _uploadFilesContinue(outputId);\n",
              "}\n",
              "\n",
              "// This is roughly an async generator (not supported in the browser yet),\n",
              "// where there are multiple asynchronous steps and the Python side is going\n",
              "// to poll for completion of each step.\n",
              "// This uses a Promise to block the python side on completion of each step,\n",
              "// then passes the result of the previous step as the input to the next step.\n",
              "function _uploadFilesContinue(outputId) {\n",
              "  const outputElement = document.getElementById(outputId);\n",
              "  const steps = outputElement.steps;\n",
              "\n",
              "  const next = steps.next(outputElement.lastPromiseValue);\n",
              "  return Promise.resolve(next.value.promise).then((value) => {\n",
              "    // Cache the last promise value to make it available to the next\n",
              "    // step of the generator.\n",
              "    outputElement.lastPromiseValue = value;\n",
              "    return next.value.response;\n",
              "  });\n",
              "}\n",
              "\n",
              "/**\n",
              " * Generator function which is called between each async step of the upload\n",
              " * process.\n",
              " * @param {string} inputId Element ID of the input file picker element.\n",
              " * @param {string} outputId Element ID of the output display.\n",
              " * @return {!Iterable<!Object>} Iterable of next steps.\n",
              " */\n",
              "function* uploadFilesStep(inputId, outputId) {\n",
              "  const inputElement = document.getElementById(inputId);\n",
              "  inputElement.disabled = false;\n",
              "\n",
              "  const outputElement = document.getElementById(outputId);\n",
              "  outputElement.innerHTML = '';\n",
              "\n",
              "  const pickedPromise = new Promise((resolve) => {\n",
              "    inputElement.addEventListener('change', (e) => {\n",
              "      resolve(e.target.files);\n",
              "    });\n",
              "  });\n",
              "\n",
              "  const cancel = document.createElement('button');\n",
              "  inputElement.parentElement.appendChild(cancel);\n",
              "  cancel.textContent = 'Cancel upload';\n",
              "  const cancelPromise = new Promise((resolve) => {\n",
              "    cancel.onclick = () => {\n",
              "      resolve(null);\n",
              "    };\n",
              "  });\n",
              "\n",
              "  // Wait for the user to pick the files.\n",
              "  const files = yield {\n",
              "    promise: Promise.race([pickedPromise, cancelPromise]),\n",
              "    response: {\n",
              "      action: 'starting',\n",
              "    }\n",
              "  };\n",
              "\n",
              "  cancel.remove();\n",
              "\n",
              "  // Disable the input element since further picks are not allowed.\n",
              "  inputElement.disabled = true;\n",
              "\n",
              "  if (!files) {\n",
              "    return {\n",
              "      response: {\n",
              "        action: 'complete',\n",
              "      }\n",
              "    };\n",
              "  }\n",
              "\n",
              "  for (const file of files) {\n",
              "    const li = document.createElement('li');\n",
              "    li.append(span(file.name, {fontWeight: 'bold'}));\n",
              "    li.append(span(\n",
              "        `(${file.type || 'n/a'}) - ${file.size} bytes, ` +\n",
              "        `last modified: ${\n",
              "            file.lastModifiedDate ? file.lastModifiedDate.toLocaleDateString() :\n",
              "                                    'n/a'} - `));\n",
              "    const percent = span('0% done');\n",
              "    li.appendChild(percent);\n",
              "\n",
              "    outputElement.appendChild(li);\n",
              "\n",
              "    const fileDataPromise = new Promise((resolve) => {\n",
              "      const reader = new FileReader();\n",
              "      reader.onload = (e) => {\n",
              "        resolve(e.target.result);\n",
              "      };\n",
              "      reader.readAsArrayBuffer(file);\n",
              "    });\n",
              "    // Wait for the data to be ready.\n",
              "    let fileData = yield {\n",
              "      promise: fileDataPromise,\n",
              "      response: {\n",
              "        action: 'continue',\n",
              "      }\n",
              "    };\n",
              "\n",
              "    // Use a chunked sending to avoid message size limits. See b/62115660.\n",
              "    let position = 0;\n",
              "    do {\n",
              "      const length = Math.min(fileData.byteLength - position, MAX_PAYLOAD_SIZE);\n",
              "      const chunk = new Uint8Array(fileData, position, length);\n",
              "      position += length;\n",
              "\n",
              "      const base64 = btoa(String.fromCharCode.apply(null, chunk));\n",
              "      yield {\n",
              "        response: {\n",
              "          action: 'append',\n",
              "          file: file.name,\n",
              "          data: base64,\n",
              "        },\n",
              "      };\n",
              "\n",
              "      let percentDone = fileData.byteLength === 0 ?\n",
              "          100 :\n",
              "          Math.round((position / fileData.byteLength) * 100);\n",
              "      percent.textContent = `${percentDone}% done`;\n",
              "\n",
              "    } while (position < fileData.byteLength);\n",
              "  }\n",
              "\n",
              "  // All done.\n",
              "  yield {\n",
              "    response: {\n",
              "      action: 'complete',\n",
              "    }\n",
              "  };\n",
              "}\n",
              "\n",
              "scope.google = scope.google || {};\n",
              "scope.google.colab = scope.google.colab || {};\n",
              "scope.google.colab._files = {\n",
              "  _uploadFiles,\n",
              "  _uploadFilesContinue,\n",
              "};\n",
              "})(self);\n",
              "</script> "
            ]
          },
          "metadata": {}
        },
        {
          "output_type": "stream",
          "name": "stdout",
          "text": [
            "Saving adult_data.csv to adult_data (4).csv\n"
          ]
        }
      ]
    },
    {
      "cell_type": "code",
      "source": [
        "!pip install pandas\n"
      ],
      "metadata": {
        "colab": {
          "base_uri": "https://localhost:8080/"
        },
        "id": "1b5XQAIu1GLk",
        "outputId": "68e86cd4-8728-4feb-f6de-4621e2d4b01f"
      },
      "execution_count": 14,
      "outputs": [
        {
          "output_type": "stream",
          "name": "stdout",
          "text": [
            "Requirement already satisfied: pandas in /usr/local/lib/python3.10/dist-packages (1.5.3)\n",
            "Requirement already satisfied: python-dateutil>=2.8.1 in /usr/local/lib/python3.10/dist-packages (from pandas) (2.8.2)\n",
            "Requirement already satisfied: pytz>=2020.1 in /usr/local/lib/python3.10/dist-packages (from pandas) (2023.3.post1)\n",
            "Requirement already satisfied: numpy>=1.21.0 in /usr/local/lib/python3.10/dist-packages (from pandas) (1.23.5)\n",
            "Requirement already satisfied: six>=1.5 in /usr/local/lib/python3.10/dist-packages (from python-dateutil>=2.8.1->pandas) (1.16.0)\n"
          ]
        }
      ]
    },
    {
      "cell_type": "code",
      "source": [
        "import pandas as pd\n",
        "\n",
        "# Load data into dataframe\n",
        "df = pd.read_csv('adult_data (4).csv')\n",
        "\n",
        "# 1) Rows and columns\n",
        "print(df.shape)"
      ],
      "metadata": {
        "colab": {
          "base_uri": "https://localhost:8080/"
        },
        "id": "EglBYwY_1WCr",
        "outputId": "eaae0746-e43e-4a97-ba66-481bbb852dfd"
      },
      "execution_count": 18,
      "outputs": [
        {
          "output_type": "stream",
          "name": "stdout",
          "text": [
            "(32561, 15)\n"
          ]
        }
      ]
    },
    {
      "cell_type": "markdown",
      "source": [
        "Display the following:\n",
        "a) All the columns\n",
        "b) First and last 20 records\n",
        "c) Dimension of the dataset\n",
        "d) Statistics for the dataset"
      ],
      "metadata": {
        "id": "j2MIhW1i2GGZ"
      }
    },
    {
      "cell_type": "code",
      "source": [
        "# 2) Display columns, head, tail, and info\n",
        "print(df.columns)\n",
        "print(df.head(20))\n",
        "print(df.tail(20))\n",
        "print(df.info())"
      ],
      "metadata": {
        "colab": {
          "base_uri": "https://localhost:8080/"
        },
        "id": "jtXwTMjY2KEy",
        "outputId": "1d82bb6b-f43a-434e-912f-ec8d84a66702"
      },
      "execution_count": 19,
      "outputs": [
        {
          "output_type": "stream",
          "name": "stdout",
          "text": [
            "Index(['age', 'workclass', 'fnlwgt', 'education', 'education-num',\n",
            "       'marital-status', 'occupation', 'relationship', 'race', 'sex',\n",
            "       'capital-gain', 'capital-loss', 'hours-per-week', 'native-country',\n",
            "       'salary'],\n",
            "      dtype='object')\n",
            "    age         workclass  fnlwgt     education  education-num  \\\n",
            "0    39         State-gov   77516     Bachelors             13   \n",
            "1    50  Self-emp-not-inc   83311     Bachelors             13   \n",
            "2    38           Private  215646       HS-grad              9   \n",
            "3    53           Private  234721          11th              7   \n",
            "4    28           Private  338409     Bachelors             13   \n",
            "5    37           Private  284582       Masters             14   \n",
            "6    49           Private  160187           9th              5   \n",
            "7    52  Self-emp-not-inc  209642       HS-grad              9   \n",
            "8    31           Private   45781       Masters             14   \n",
            "9    42           Private  159449     Bachelors             13   \n",
            "10   37           Private  280464  Some-college             10   \n",
            "11   30         State-gov  141297     Bachelors             13   \n",
            "12   23           Private  122272     Bachelors             13   \n",
            "13   32           Private  205019    Assoc-acdm             12   \n",
            "14   40           Private  121772     Assoc-voc             11   \n",
            "15   34           Private  245487       7th-8th              4   \n",
            "16   25  Self-emp-not-inc  176756       HS-grad              9   \n",
            "17   32           Private  186824       HS-grad              9   \n",
            "18   38           Private   28887          11th              7   \n",
            "19   43  Self-emp-not-inc  292175       Masters             14   \n",
            "\n",
            "           marital-status         occupation   relationship  \\\n",
            "0           Never-married       Adm-clerical  Not-in-family   \n",
            "1      Married-civ-spouse    Exec-managerial        Husband   \n",
            "2                Divorced  Handlers-cleaners  Not-in-family   \n",
            "3      Married-civ-spouse  Handlers-cleaners        Husband   \n",
            "4      Married-civ-spouse     Prof-specialty           Wife   \n",
            "5      Married-civ-spouse    Exec-managerial           Wife   \n",
            "6   Married-spouse-absent      Other-service  Not-in-family   \n",
            "7      Married-civ-spouse    Exec-managerial        Husband   \n",
            "8           Never-married     Prof-specialty  Not-in-family   \n",
            "9      Married-civ-spouse    Exec-managerial        Husband   \n",
            "10     Married-civ-spouse    Exec-managerial        Husband   \n",
            "11     Married-civ-spouse     Prof-specialty        Husband   \n",
            "12          Never-married       Adm-clerical      Own-child   \n",
            "13          Never-married              Sales  Not-in-family   \n",
            "14     Married-civ-spouse       Craft-repair        Husband   \n",
            "15     Married-civ-spouse   Transport-moving        Husband   \n",
            "16          Never-married    Farming-fishing      Own-child   \n",
            "17          Never-married  Machine-op-inspct      Unmarried   \n",
            "18     Married-civ-spouse              Sales        Husband   \n",
            "19               Divorced    Exec-managerial      Unmarried   \n",
            "\n",
            "                  race     sex  capital-gain  capital-loss  hours-per-week  \\\n",
            "0                White    Male          2174             0              40   \n",
            "1                White    Male             0             0              13   \n",
            "2                White    Male             0             0              40   \n",
            "3                Black    Male             0             0              40   \n",
            "4                Black  Female             0             0              40   \n",
            "5                White  Female             0             0              40   \n",
            "6                Black  Female             0             0              16   \n",
            "7                White    Male             0             0              45   \n",
            "8                White  Female         14084             0              50   \n",
            "9                White    Male          5178             0              40   \n",
            "10               Black    Male             0             0              80   \n",
            "11  Asian-Pac-Islander    Male             0             0              40   \n",
            "12               White  Female             0             0              30   \n",
            "13               Black    Male             0             0              50   \n",
            "14  Asian-Pac-Islander    Male             0             0              40   \n",
            "15  Amer-Indian-Eskimo    Male             0             0              45   \n",
            "16               White    Male             0             0              35   \n",
            "17               White    Male             0             0              40   \n",
            "18               White    Male             0             0              50   \n",
            "19               White  Female             0             0              45   \n",
            "\n",
            "   native-country salary  \n",
            "0   United-States  <=50K  \n",
            "1   United-States  <=50K  \n",
            "2   United-States  <=50K  \n",
            "3   United-States  <=50K  \n",
            "4            Cuba  <=50K  \n",
            "5   United-States  <=50K  \n",
            "6         Jamaica  <=50K  \n",
            "7   United-States   >50K  \n",
            "8   United-States   >50K  \n",
            "9   United-States   >50K  \n",
            "10  United-States   >50K  \n",
            "11          India   >50K  \n",
            "12  United-States  <=50K  \n",
            "13  United-States  <=50K  \n",
            "14              ?   >50K  \n",
            "15         Mexico  <=50K  \n",
            "16  United-States  <=50K  \n",
            "17  United-States  <=50K  \n",
            "18  United-States  <=50K  \n",
            "19  United-States   >50K  \n",
            "       age         workclass  fnlwgt     education  education-num  \\\n",
            "32541   41                 ?  202822       HS-grad              9   \n",
            "32542   72                 ?  129912       HS-grad              9   \n",
            "32543   45         Local-gov  119199    Assoc-acdm             12   \n",
            "32544   31           Private  199655       Masters             14   \n",
            "32545   39         Local-gov  111499    Assoc-acdm             12   \n",
            "32546   37           Private  198216    Assoc-acdm             12   \n",
            "32547   43           Private  260761       HS-grad              9   \n",
            "32548   65  Self-emp-not-inc   99359   Prof-school             15   \n",
            "32549   43         State-gov  255835  Some-college             10   \n",
            "32550   43  Self-emp-not-inc   27242  Some-college             10   \n",
            "32551   32           Private   34066          10th              6   \n",
            "32552   43           Private   84661     Assoc-voc             11   \n",
            "32553   32           Private  116138       Masters             14   \n",
            "32554   53           Private  321865       Masters             14   \n",
            "32555   22           Private  310152  Some-college             10   \n",
            "32556   27           Private  257302    Assoc-acdm             12   \n",
            "32557   40           Private  154374       HS-grad              9   \n",
            "32558   58           Private  151910       HS-grad              9   \n",
            "32559   22           Private  201490       HS-grad              9   \n",
            "32560   52      Self-emp-inc  287927       HS-grad              9   \n",
            "\n",
            "           marital-status         occupation    relationship  \\\n",
            "32541           Separated                  ?   Not-in-family   \n",
            "32542  Married-civ-spouse                  ?         Husband   \n",
            "32543            Divorced     Prof-specialty       Unmarried   \n",
            "32544            Divorced      Other-service   Not-in-family   \n",
            "32545  Married-civ-spouse       Adm-clerical            Wife   \n",
            "32546            Divorced       Tech-support   Not-in-family   \n",
            "32547  Married-civ-spouse  Machine-op-inspct         Husband   \n",
            "32548       Never-married     Prof-specialty   Not-in-family   \n",
            "32549            Divorced       Adm-clerical  Other-relative   \n",
            "32550  Married-civ-spouse       Craft-repair         Husband   \n",
            "32551  Married-civ-spouse  Handlers-cleaners         Husband   \n",
            "32552  Married-civ-spouse              Sales         Husband   \n",
            "32553       Never-married       Tech-support   Not-in-family   \n",
            "32554  Married-civ-spouse    Exec-managerial         Husband   \n",
            "32555       Never-married    Protective-serv   Not-in-family   \n",
            "32556  Married-civ-spouse       Tech-support            Wife   \n",
            "32557  Married-civ-spouse  Machine-op-inspct         Husband   \n",
            "32558             Widowed       Adm-clerical       Unmarried   \n",
            "32559       Never-married       Adm-clerical       Own-child   \n",
            "32560  Married-civ-spouse    Exec-managerial            Wife   \n",
            "\n",
            "                     race     sex  capital-gain  capital-loss  hours-per-week  \\\n",
            "32541               Black  Female             0             0              32   \n",
            "32542               White    Male             0             0              25   \n",
            "32543               White  Female             0             0              48   \n",
            "32544               Other  Female             0             0              30   \n",
            "32545               White  Female             0             0              20   \n",
            "32546               White  Female             0             0              40   \n",
            "32547               White    Male             0             0              40   \n",
            "32548               White    Male          1086             0              60   \n",
            "32549               White  Female             0             0              40   \n",
            "32550               White    Male             0             0              50   \n",
            "32551  Amer-Indian-Eskimo    Male             0             0              40   \n",
            "32552               White    Male             0             0              45   \n",
            "32553  Asian-Pac-Islander    Male             0             0              11   \n",
            "32554               White    Male             0             0              40   \n",
            "32555               White    Male             0             0              40   \n",
            "32556               White  Female             0             0              38   \n",
            "32557               White    Male             0             0              40   \n",
            "32558               White  Female             0             0              40   \n",
            "32559               White    Male             0             0              20   \n",
            "32560               White  Female         15024             0              40   \n",
            "\n",
            "      native-country salary  \n",
            "32541  United-States  <=50K  \n",
            "32542  United-States  <=50K  \n",
            "32543  United-States  <=50K  \n",
            "32544  United-States  <=50K  \n",
            "32545  United-States   >50K  \n",
            "32546  United-States  <=50K  \n",
            "32547         Mexico  <=50K  \n",
            "32548  United-States  <=50K  \n",
            "32549  United-States  <=50K  \n",
            "32550  United-States  <=50K  \n",
            "32551  United-States  <=50K  \n",
            "32552  United-States  <=50K  \n",
            "32553         Taiwan  <=50K  \n",
            "32554  United-States   >50K  \n",
            "32555  United-States  <=50K  \n",
            "32556  United-States  <=50K  \n",
            "32557  United-States   >50K  \n",
            "32558  United-States  <=50K  \n",
            "32559  United-States  <=50K  \n",
            "32560  United-States   >50K  \n",
            "<class 'pandas.core.frame.DataFrame'>\n",
            "RangeIndex: 32561 entries, 0 to 32560\n",
            "Data columns (total 15 columns):\n",
            " #   Column          Non-Null Count  Dtype \n",
            "---  ------          --------------  ----- \n",
            " 0   age             32561 non-null  int64 \n",
            " 1   workclass       32561 non-null  object\n",
            " 2   fnlwgt          32561 non-null  int64 \n",
            " 3   education       32561 non-null  object\n",
            " 4   education-num   32561 non-null  int64 \n",
            " 5   marital-status  32561 non-null  object\n",
            " 6   occupation      32561 non-null  object\n",
            " 7   relationship    32561 non-null  object\n",
            " 8   race            32561 non-null  object\n",
            " 9   sex             32561 non-null  object\n",
            " 10  capital-gain    32561 non-null  int64 \n",
            " 11  capital-loss    32561 non-null  int64 \n",
            " 12  hours-per-week  32561 non-null  int64 \n",
            " 13  native-country  32561 non-null  object\n",
            " 14  salary          32561 non-null  object\n",
            "dtypes: int64(6), object(9)\n",
            "memory usage: 3.7+ MB\n",
            "None\n"
          ]
        }
      ]
    },
    {
      "cell_type": "markdown",
      "source": [
        "How many men and women (sex feature) are represented in this dataset\n"
      ],
      "metadata": {
        "id": "V-DI5yVD2ZkM"
      }
    },
    {
      "cell_type": "code",
      "source": [
        "print(df['sex'].value_counts())"
      ],
      "metadata": {
        "colab": {
          "base_uri": "https://localhost:8080/"
        },
        "id": "kCOyfEKk2dNJ",
        "outputId": "324cbe26-83cd-40d3-92ee-042ee05e9544"
      },
      "execution_count": 20,
      "outputs": [
        {
          "output_type": "stream",
          "name": "stdout",
          "text": [
            "Male      21790\n",
            "Female    10771\n",
            "Name: sex, dtype: int64\n"
          ]
        }
      ]
    },
    {
      "cell_type": "markdown",
      "source": [
        "What is the average age (age feature) of women?\n"
      ],
      "metadata": {
        "id": "Wh_ztANU2jl4"
      }
    },
    {
      "cell_type": "code",
      "source": [
        "print(df[df['sex']=='Female']['age'].mean())"
      ],
      "metadata": {
        "colab": {
          "base_uri": "https://localhost:8080/"
        },
        "id": "kwO_yatB2tqe",
        "outputId": "77406328-4e7b-4f2a-e60e-02437cec6b66"
      },
      "execution_count": 21,
      "outputs": [
        {
          "output_type": "stream",
          "name": "stdout",
          "text": [
            "36.85823043357163\n"
          ]
        }
      ]
    },
    {
      "cell_type": "markdown",
      "source": [
        "What is the percentage of German citizens (native-country feature)?\n"
      ],
      "metadata": {
        "id": "mAVI7auJ24XA"
      }
    },
    {
      "cell_type": "code",
      "source": [
        "print(df[df['native-country']=='Germany'].shape[0] / df.shape[0] * 100)"
      ],
      "metadata": {
        "colab": {
          "base_uri": "https://localhost:8080/"
        },
        "id": "fDqB1kUe27Zm",
        "outputId": "96b5fc36-1003-431e-f990-49522cd3a93b"
      },
      "execution_count": 22,
      "outputs": [
        {
          "output_type": "stream",
          "name": "stdout",
          "text": [
            "0.42074874850281013\n"
          ]
        }
      ]
    },
    {
      "cell_type": "markdown",
      "source": [
        "What are the mean and standard deviation of age for those who earn more than 50K per year\n",
        "(salary feature) and those who earn less than 50K per year"
      ],
      "metadata": {
        "id": "XRUfZHuQ3BcA"
      }
    },
    {
      "cell_type": "code",
      "source": [
        "print(df[df['salary']=='>50K']['age'].mean())\n",
        "print(df[df['salary']=='>50K']['age'].std())\n",
        "print(df[df['salary']=='<=50K']['age'].mean())\n",
        "print(df[df['salary']=='<=50K']['age'].std())"
      ],
      "metadata": {
        "colab": {
          "base_uri": "https://localhost:8080/"
        },
        "id": "76HWYZQ_3Ipc",
        "outputId": "af6f8d47-620b-4630-e24a-291d35a6021e"
      },
      "execution_count": 23,
      "outputs": [
        {
          "output_type": "stream",
          "name": "stdout",
          "text": [
            "44.24984058155847\n",
            "10.519027719851826\n",
            "36.78373786407767\n",
            "14.02008849082488\n"
          ]
        }
      ]
    },
    {
      "cell_type": "markdown",
      "source": [
        "Is it true that people who earn more than 50K have at least high school education?\n",
        "(Education – Bachelors, Prof-school, Assoc-acdm, Assoc-voc, Masters or Doctorate\n",
        "feature"
      ],
      "metadata": {
        "id": "ZHLr2LoT3RRG"
      }
    },
    {
      "cell_type": "code",
      "source": [
        "print(df[(df['salary']=='>50K') & (df['education'].isin(['Bachelors', 'Prof-school', 'Assoc-acdm', 'Assoc-voc', 'Masters', 'Doctorate']))].shape[0] == df[df['salary']=='>50K'].shape[0])"
      ],
      "metadata": {
        "colab": {
          "base_uri": "https://localhost:8080/"
        },
        "id": "0KM-G6Vj3Wcw",
        "outputId": "39fc5da4-4187-4839-9c56-8b6d892a32ee"
      },
      "execution_count": 24,
      "outputs": [
        {
          "output_type": "stream",
          "name": "stdout",
          "text": [
            "False\n"
          ]
        }
      ]
    },
    {
      "cell_type": "markdown",
      "source": [
        "Display age statistics for each race (race feature) and each gender (sex feature). Use\n",
        "groupby() and describe(). Find the maximum age of men of Amer-Indian-Eskimo race."
      ],
      "metadata": {
        "id": "pzaJx-V13ddr"
      }
    },
    {
      "cell_type": "code",
      "source": [
        "print(df.groupby(['race','sex'])['age'].describe())\n",
        "print(df[(df['race']=='Amer-Indian-Eskimo') & (df['sex']=='Male')]['age'].max())"
      ],
      "metadata": {
        "colab": {
          "base_uri": "https://localhost:8080/"
        },
        "id": "PE3sxF-g3gx_",
        "outputId": "1e2b660d-817c-40b2-8d40-e913d57dfa14"
      },
      "execution_count": 25,
      "outputs": [
        {
          "output_type": "stream",
          "name": "stdout",
          "text": [
            "                             count       mean        std   min   25%   50%  \\\n",
            "race               sex                                                       \n",
            "Amer-Indian-Eskimo Female    119.0  37.117647  13.114991  17.0  27.0  36.0   \n",
            "                   Male      192.0  37.208333  12.049563  17.0  28.0  35.0   \n",
            "Asian-Pac-Islander Female    346.0  35.089595  12.300845  17.0  25.0  33.0   \n",
            "                   Male      693.0  39.073593  12.883944  18.0  29.0  37.0   \n",
            "Black              Female   1555.0  37.854019  12.637197  17.0  28.0  37.0   \n",
            "                   Male     1569.0  37.682600  12.882612  17.0  27.0  36.0   \n",
            "Other              Female    109.0  31.678899  11.631599  17.0  23.0  29.0   \n",
            "                   Male      162.0  34.654321  11.355531  17.0  26.0  32.0   \n",
            "White              Female   8642.0  36.811618  14.329093  17.0  25.0  35.0   \n",
            "                   Male    19174.0  39.652498  13.436029  17.0  29.0  38.0   \n",
            "\n",
            "                             75%   max  \n",
            "race               sex                  \n",
            "Amer-Indian-Eskimo Female  46.00  80.0  \n",
            "                   Male    45.00  82.0  \n",
            "Asian-Pac-Islander Female  43.75  75.0  \n",
            "                   Male    46.00  90.0  \n",
            "Black              Female  46.00  90.0  \n",
            "                   Male    46.00  90.0  \n",
            "Other              Female  39.00  74.0  \n",
            "                   Male    42.00  77.0  \n",
            "White              Female  46.00  90.0  \n",
            "                   Male    49.00  90.0  \n",
            "82\n"
          ]
        }
      ]
    },
    {
      "cell_type": "markdown",
      "source": [
        "Among whom is the proportion of those who earn a lot (>50K) greater: married or single men\n",
        "(marital-status feature)? Consider as married those who have a marital-status starting with\n",
        "Married (Married-civ-spouse, Married-spouse-absent or Married-AF-spouse), the rest\n",
        "are considered bachelors."
      ],
      "metadata": {
        "id": "DaH247gO3ouV"
      }
    },
    {
      "cell_type": "code",
      "source": [
        "print(df['hours-per-week'].max())\n",
        "print(df[df['hours-per-week']==df['hours-per-week'].max()].shape[0])\n",
        "print(df[(df['hours-per-week']==df['hours-per-week'].max()) & (df['salary']=='>50K')].shape[0] / df[df['hours-per-week']==df['hours-per-week'].max()].shape[0])"
      ],
      "metadata": {
        "colab": {
          "base_uri": "https://localhost:8080/"
        },
        "id": "tEka0uV83sXI",
        "outputId": "784a556a-06ee-41e8-f1bf-2f66ea82915b"
      },
      "execution_count": 26,
      "outputs": [
        {
          "output_type": "stream",
          "name": "stdout",
          "text": [
            "99\n",
            "85\n",
            "0.29411764705882354\n"
          ]
        }
      ]
    },
    {
      "cell_type": "markdown",
      "source": [
        "What is the maximum number of hours a person works per week (hours-per-week feature)?\n",
        "How many people work such a number of hours, and what is the percentage of those who\n",
        "earn a lot (>50K) among them?"
      ],
      "metadata": {
        "id": "leo7cUy13yjn"
      }
    },
    {
      "cell_type": "code",
      "source": [
        "print(df.groupby(['native-country','salary'])['hours-per-week'].mean())\n",
        "print(df[(df['native-country']=='Japan') & (df['salary']=='<=50K')]['hours-per-week'].mean())\n",
        "print(df[(df['native-country']=='Japan') & (df['salary']=='>50K')]['hours-per-week'].mean())"
      ],
      "metadata": {
        "colab": {
          "base_uri": "https://localhost:8080/"
        },
        "id": "njavU0jl32A3",
        "outputId": "2e89f0b7-e36c-4f0f-cd4c-ffc3110ebc6a"
      },
      "execution_count": 27,
      "outputs": [
        {
          "output_type": "stream",
          "name": "stdout",
          "text": [
            "native-country  salary\n",
            "?               <=50K     40.164760\n",
            "                >50K      45.547945\n",
            "Cambodia        <=50K     41.416667\n",
            "                >50K      40.000000\n",
            "Canada          <=50K     37.914634\n",
            "                            ...    \n",
            "United-States   >50K      45.505369\n",
            "Vietnam         <=50K     37.193548\n",
            "                >50K      39.200000\n",
            "Yugoslavia      <=50K     41.600000\n",
            "                >50K      49.500000\n",
            "Name: hours-per-week, Length: 82, dtype: float64\n",
            "41.0\n",
            "47.958333333333336\n"
          ]
        }
      ]
    }
  ]
}