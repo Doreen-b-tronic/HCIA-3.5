{
  "nbformat": 4,
  "nbformat_minor": 0,
  "metadata": {
    "colab": {
      "provenance": []
    },
    "kernelspec": {
      "name": "python3",
      "display_name": "Python 3"
    },
    "language_info": {
      "name": "python"
    }
  },
  "cells": [
    {
      "cell_type": "code",
      "execution_count": 2,
      "metadata": {
        "id": "HF2xO8D60P5S",
        "colab": {
          "base_uri": "https://localhost:8080/"
        },
        "outputId": "fe5b1352-9cbd-4255-f673-22403d298a22"
      },
      "outputs": [
        {
          "output_type": "stream",
          "name": "stdout",
          "text": [
            "1.23.5\n",
            "1.5.3\n"
          ]
        }
      ],
      "source": [
        "import numpy;\n",
        "print (numpy.version.version) #numpy version\n",
        "import pandas as pd;\n",
        "print (pd.__version__) #numpy version"
      ]
    },
    {
      "cell_type": "code",
      "source": [
        "print (\"Hello HCIA PDTP-Huawei Team\")"
      ],
      "metadata": {
        "colab": {
          "base_uri": "https://localhost:8080/"
        },
        "id": "BLq8Uypattw0",
        "outputId": "0909e798-5074-419d-da03-72c6017504eb"
      },
      "execution_count": 3,
      "outputs": [
        {
          "output_type": "stream",
          "name": "stdout",
          "text": [
            "Hello HCIA PDTP-Huawei Team\n"
          ]
        }
      ]
    },
    {
      "cell_type": "code",
      "source": [
        "a = 5\n",
        "b = 10\n",
        "sum = a + b\n",
        "print(sum)"
      ],
      "metadata": {
        "colab": {
          "base_uri": "https://localhost:8080/"
        },
        "id": "Z4iND5Nht3yU",
        "outputId": "db6d913c-743e-4d76-acb8-3febff887f1b"
      },
      "execution_count": 5,
      "outputs": [
        {
          "output_type": "stream",
          "name": "stdout",
          "text": [
            "15\n"
          ]
        }
      ]
    },
    {
      "cell_type": "code",
      "source": [
        "t = (1,)\n",
        "print(t)"
      ],
      "metadata": {
        "colab": {
          "base_uri": "https://localhost:8080/"
        },
        "id": "sGaK_6PXuSAW",
        "outputId": "846b71cb-d319-4f52-f484-73a45d7f08fe"
      },
      "execution_count": 6,
      "outputs": [
        {
          "output_type": "stream",
          "name": "stdout",
          "text": [
            "(1,)\n"
          ]
        }
      ]
    },
    {
      "cell_type": "code",
      "source": [
        "t = (1, 2, 3)\n",
        "for i in t:\n",
        "   print(i)"
      ],
      "metadata": {
        "colab": {
          "base_uri": "https://localhost:8080/"
        },
        "id": "WIzc5xuRugH5",
        "outputId": "6abe2257-15d3-4161-f3c5-a267812e4570"
      },
      "execution_count": 9,
      "outputs": [
        {
          "output_type": "stream",
          "name": "stdout",
          "text": [
            "1\n",
            "2\n",
            "3\n"
          ]
        }
      ]
    },
    {
      "cell_type": "code",
      "source": [
        "d = {'name':'Reagan', 'phone':'+254 722 222333'}\n",
        "print(d)"
      ],
      "metadata": {
        "colab": {
          "base_uri": "https://localhost:8080/"
        },
        "id": "Pn7RvA5Du0Ts",
        "outputId": "75dc7bda-292b-4ddc-923b-69cc1abcc81b"
      },
      "execution_count": 10,
      "outputs": [
        {
          "output_type": "stream",
          "name": "stdout",
          "text": [
            "{'name': 'Reagan', 'phone': '+254 722 222333'}\n"
          ]
        }
      ]
    },
    {
      "cell_type": "code",
      "source": [
        "def Mul(a, b):\n",
        "    return a * b\n",
        "\n",
        "print(Mul(8, 6))"
      ],
      "metadata": {
        "colab": {
          "base_uri": "https://localhost:8080/"
        },
        "id": "7oZjL5PQvFr5",
        "outputId": "b3e780a9-cbcc-4e80-ba39-694f4a32cbae"
      },
      "execution_count": 15,
      "outputs": [
        {
          "output_type": "stream",
          "name": "stdout",
          "text": [
            "48\n"
          ]
        }
      ]
    },
    {
      "cell_type": "code",
      "source": [
        "def sqrProd(x, y):\n",
        "    return (x * y) ** 2\n",
        "\n",
        "print(sqrProd(2, 5))"
      ],
      "metadata": {
        "colab": {
          "base_uri": "https://localhost:8080/"
        },
        "id": "wsBups2iv34Q",
        "outputId": "3a994298-4364-4b0c-c6d7-898094290698"
      },
      "execution_count": 17,
      "outputs": [
        {
          "output_type": "stream",
          "name": "stdout",
          "text": [
            "100\n"
          ]
        }
      ]
    },
    {
      "cell_type": "code",
      "source": [
        "import numpy as np\n",
        "arr = np.zeros((5,5))\n",
        "print(arr)"
      ],
      "metadata": {
        "colab": {
          "base_uri": "https://localhost:8080/"
        },
        "id": "GgJASkXnwL5n",
        "outputId": "db7b1015-ebf9-4d39-89e3-3821c551d31d"
      },
      "execution_count": 18,
      "outputs": [
        {
          "output_type": "stream",
          "name": "stdout",
          "text": [
            "[[0. 0. 0. 0. 0.]\n",
            " [0. 0. 0. 0. 0.]\n",
            " [0. 0. 0. 0. 0.]\n",
            " [0. 0. 0. 0. 0.]\n",
            " [0. 0. 0. 0. 0.]]\n"
          ]
        }
      ]
    },
    {
      "cell_type": "code",
      "source": [
        "import numpy as np\n",
        "values = np.arange(9)\n",
        "matrix = values.reshape(3,3)\n",
        "print(matrix)"
      ],
      "metadata": {
        "colab": {
          "base_uri": "https://localhost:8080/"
        },
        "id": "My7cN1Dsx3yY",
        "outputId": "cac0f3bb-c3ab-4338-fc5f-7e7ce0ddc1cc"
      },
      "execution_count": 19,
      "outputs": [
        {
          "output_type": "stream",
          "name": "stdout",
          "text": [
            "[[0 1 2]\n",
            " [3 4 5]\n",
            " [6 7 8]]\n"
          ]
        }
      ]
    },
    {
      "cell_type": "code",
      "source": [
        "import numpy as np\n",
        "arr = np.array([1,2,0,0,4,0])\n",
        "indices = np.nonzero(arr)\n",
        "print(indices)"
      ],
      "metadata": {
        "colab": {
          "base_uri": "https://localhost:8080/"
        },
        "id": "QET3ziPzyQPd",
        "outputId": "6d3d6556-6277-4f8a-a641-bd3cec03fa88"
      },
      "execution_count": 20,
      "outputs": [
        {
          "output_type": "stream",
          "name": "stdout",
          "text": [
            "(array([0, 1, 4]),)\n"
          ]
        }
      ]
    },
    {
      "cell_type": "code",
      "source": [
        "import numpy as np\n",
        "\n",
        "arr = np.random.randn(10, 10)\n",
        "\n",
        "min_val = arr.min()\n",
        "max_val = arr.max()\n",
        "\n",
        "print(min_val)\n",
        "print(max_val)"
      ],
      "metadata": {
        "colab": {
          "base_uri": "https://localhost:8080/"
        },
        "id": "lKGBg1nwzEKe",
        "outputId": "8b0a9329-6877-43a2-8b38-30cdfe3c9cae"
      },
      "execution_count": 21,
      "outputs": [
        {
          "output_type": "stream",
          "name": "stdout",
          "text": [
            "-2.239807228439555\n",
            "2.7847237809348226\n"
          ]
        }
      ]
    },
    {
      "cell_type": "code",
      "source": [
        "import numpy as np\n",
        "\n",
        "vec = np.random.randn(30)\n",
        "mean = np.mean(vec)\n",
        "\n",
        "print(mean)"
      ],
      "metadata": {
        "colab": {
          "base_uri": "https://localhost:8080/"
        },
        "id": "so6puMltzYIk",
        "outputId": "55436492-edf1-417e-d073-35dbcc878282"
      },
      "execution_count": 22,
      "outputs": [
        {
          "output_type": "stream",
          "name": "stdout",
          "text": [
            "0.31714270443579634\n"
          ]
        }
      ]
    },
    {
      "cell_type": "code",
      "source": [
        "num1 = float(input(\"Enter the first number: \"))\n",
        "num2 = float(input(\"Enter the second number: \"))\n",
        "\n",
        "product = num1 * num2\n",
        "\n",
        "print(\"The product of\", num1, \"and\", num2, \"is\", product)"
      ],
      "metadata": {
        "colab": {
          "base_uri": "https://localhost:8080/"
        },
        "id": "Or32o4aFzxP4",
        "outputId": "43745f7e-5047-4072-909e-836f4bbd73d2"
      },
      "execution_count": 23,
      "outputs": [
        {
          "output_type": "stream",
          "name": "stdout",
          "text": [
            "Enter the first number: 5\n",
            "Enter the second number: 12\n",
            "The product of 5.0 and 12.0 is 60.0\n"
          ]
        }
      ]
    },
    {
      "cell_type": "markdown",
      "source": [
        "Complete the code for the following function so it matches its documentation:\n",
        "def doubleList(numberList):\n",
        "For each of the numbers in the list numberList, print a line containing twice the original\n"
      ],
      "metadata": {
        "id": "YSwHYHFi0Ny-"
      }
    },
    {
      "cell_type": "code",
      "source": [
        "def doubleList(numberList):\n",
        "  \"\"\"For each of the numbers in the list numberList,\n",
        "     print a line containing twice the original number.\"\"\"\n",
        "\n",
        "  for number in numberList:\n",
        "    print(2 * number)\n",
        "\n",
        "# Example usage\n",
        "myList = [3, 1, 5]\n",
        "doubleList(myList)"
      ],
      "metadata": {
        "colab": {
          "base_uri": "https://localhost:8080/"
        },
        "id": "-0gOQASP0T-b",
        "outputId": "0351fb2a-a847-4b5a-d941-d977b83da844"
      },
      "execution_count": 36,
      "outputs": [
        {
          "output_type": "stream",
          "name": "stdout",
          "text": [
            "6\n",
            "2\n",
            "10\n"
          ]
        }
      ]
    }
  ]
}